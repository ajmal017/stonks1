{
 "cells": [
  {
   "cell_type": "code",
   "execution_count": 1,
   "metadata": {
    "scrolled": true
   },
   "outputs": [
    {
     "name": "stderr",
     "output_type": "stream",
     "text": [
      "Using TensorFlow backend.\n"
     ]
    }
   ],
   "source": [
    "\n",
    "import numpy as np # linear algebra\n",
    "import pandas as pd # data processing, CSV file I/O (e.g. pd.read_csv)\n",
    "\n",
    "import matplotlib.pyplot as plt\n",
    "from matplotlib import cm\n",
    "import seaborn as sns; sns.set()\n",
    "%matplotlib inline\n",
    "\n",
    "from imblearn.pipeline import make_pipeline, Pipeline\n",
    "\n",
    "from sklearn.linear_model import LogisticRegression\n",
    "from sklearn.preprocessing import KBinsDiscretizer, FunctionTransformer\n",
    "from sklearn.model_selection import cross_val_score\n",
    "from sklearn.preprocessing import MinMaxScaler\n",
    "from category_encoders import WOEEncoder\n",
    "from sklearn.pipeline import make_pipeline, Pipeline\n",
    "from sklearn.metrics import classification_report, confusion_matrix, accuracy_score, balanced_accuracy_score, roc_auc_score\n",
    "from sklearn.ensemble import RandomForestClassifier, ExtraTreesClassifier\n",
    "\n",
    "\n",
    "from sklearn.datasets import make_classification\n",
    "from sklearn.model_selection import train_test_split, GridSearchCV\n",
    "from sklearn.pipeline import Pipeline\n",
    "from sklearn.svm import LinearSVC\n",
    "from sklearn.preprocessing import MinMaxScaler, KBinsDiscretizer, FunctionTransformer\n",
    "from category_encoders import OneHotEncoder\n",
    "\n",
    "from mlxtend.evaluate import feature_importance_permutation\n",
    "from sklearn.model_selection import train_test_split\n",
    "\n",
    "from mlxtend.feature_extraction import PrincipalComponentAnalysis\n",
    "from mlxtend.preprocessing import standardize\n",
    "\n",
    "from mlxtend.plotting import plot_pca_correlation_graph\n",
    "\n",
    "\n",
    "from mlxtend.plotting import plot_decision_regions\n",
    "from sklearn.tree import DecisionTreeClassifier\n",
    "from sklearn.ensemble import RandomForestClassifier, ExtraTreesClassifier\n",
    "from sklearn.linear_model import LogisticRegression\n",
    "from sklearn.preprocessing import KBinsDiscretizer, FunctionTransformer\n",
    "from sklearn.model_selection import cross_val_score\n",
    "\n",
    "from sklearn.pipeline import make_pipeline, Pipeline\n",
    "\n",
    "import joypy\n",
    "\n",
    "import yfinance as yf\n",
    "from finta import TA as ta\n",
    "# import talib as ta\n",
    "\n",
    "import warnings\n",
    "warnings.filterwarnings(\"ignore\")\n",
    "# Any results you write to the current directory are saved as output."
   ]
  },
  {
   "cell_type": "code",
   "execution_count": 2,
   "metadata": {},
   "outputs": [],
   "source": [
    "def get_stock(ticker):\n",
    "    df = yf.Ticker(ticker)\n",
    "    df = df.history(period='max')\n",
    "#     df = df.history(start = '2018-10-1',end = '2019-02-10')\n",
    "    for i in df.columns:\n",
    "        df = df.rename(columns={str(i): str(i.lower())})\n",
    "    return df\n",
    "    "
   ]
  },
  {
   "cell_type": "code",
   "execution_count": 3,
   "metadata": {},
   "outputs": [],
   "source": [
    "def appendData(maindf, dataarray, namesarray=None):\n",
    "    if namesarray==None:\n",
    "        return maindf.join(pd.DataFrame(dataarray), how='outer')\n",
    "    return maindf.join(pd.DataFrame(dataarray,columns=namesarray), how='outer')"
   ]
  },
  {
   "cell_type": "code",
   "execution_count": 4,
   "metadata": {},
   "outputs": [],
   "source": [
    "def create_features(df):\n",
    "    '''https://byte0x20.com/python-programming-28-point-system-pt2/'''\n",
    "    ### Oscillators ###\n",
    "    ## RSI\n",
    "    df = appendData(df,ta.RSI(df))\n",
    "    ## Sto-%K\n",
    "    df = appendData(df,ta.STOCH(df))\n",
    "    ## CCI\n",
    "    df = appendData(df,ta.CCI(df))\n",
    "    ## ADX\n",
    "    df = appendData(df,ta.ADX(df))\n",
    "    ## DMI (Added to aid in interpreting ADX)\n",
    "    df = appendData(df,ta.DMI(df, 14))\n",
    "    ## Awesome\n",
    "    df = appendData(df,ta.AO(df))\n",
    "    ## Momentum\n",
    "    df = appendData(df,ta.MOM(df,10))\n",
    "    ## MACD (We rename the undescriptive \"SIGNAL\" here)\n",
    "    df = appendData(df,ta.MACD(df)).rename(columns={\"SIGNAL\": \"MACD SIGNAL\"})\n",
    "    ## Sto-RSI\n",
    "    df = appendData(df,ta.STOCHRSI(df))\n",
    "    ## Williams %R\n",
    "    df = appendData(df,ta.WILLIAMS(df))\n",
    "    ## Bull-Bear Power\n",
    "    df = appendData(df,ta.EBBP(df))\n",
    "    ## Ultimate (FinTA does not name this column, so we must)\n",
    "    df = appendData(df,ta.UO(df),[\"UO\"])\n",
    "    ### Moving Averages ###\n",
    "    sma_ema_averages = [5, 10, 20, 30, 50, 100, 200]\n",
    "    ## SMA, EMA\n",
    "    for i in sma_ema_averages:\n",
    "      df = appendData(df,ta.SMA(df, i))\n",
    "      df = appendData(df,ta.EMA(df, i))\n",
    "    ## VWMA\n",
    "    df = appendData(df, ta.VAMA(df, 20))\n",
    "    ## Hull\n",
    "    df = appendData(df,ta.HMA(df, 9))\n",
    "    # Ichimoku -- Base (Kijun) and Conversion (Tenkan) Only\n",
    "    df = appendData(df,ta.ICHIMOKU(df).drop(['senkou_span_a','SENKOU','CHIKOU'], axis=1))\n",
    "    return df"
   ]
  },
  {
   "cell_type": "code",
   "execution_count": 5,
   "metadata": {},
   "outputs": [],
   "source": [
    "def get_gauge(df):\n",
    "    indicator_count = 28 # Our magic number of indicators that we will average by.\n",
    "    gauge_value = 0 # Initializing our gauge value to be perfectly neutral according to our rules.\n",
    "    index_value = len(df) - 1 # This will make this code mildly prettier in the way that it's currently written.\n",
    "    ###### RSI\n",
    "    if float(df['RSI'][index_value]) <= float(30):\n",
    "        gauge_value += 1 # Adding 1 is BUY\n",
    "    elif float(df['RSI'][index_value]) >= float(70):\n",
    "        gauge_value -= 1 # Subtracting 1 is a SELL\n",
    "    else:\n",
    "        gauge_value += 0 # No value changed is a NEUTRAL\n",
    "    ###### STOCH %K\n",
    "    if float(df['14 period STOCH %K'][index_value]) <= float(20):\n",
    "        gauge_value += 1\n",
    "    elif float(df['14 period STOCH %K'][index_value]) >= float(80):\n",
    "        gauge_value -= 1\n",
    "    else:\n",
    "        gauge_value += 0\n",
    "    ###### CCI\n",
    "    if float(df['20 period CCI'][index_value]) <= float(-100):\n",
    "        gauge_value += 1\n",
    "    elif float(df['20 period CCI'][index_value]) >= float(100):\n",
    "        gauge_value -= 1\n",
    "    else:\n",
    "        gauge_value += 0\n",
    "    ###### ADX (also using DMI)\n",
    "    if (float(df['14 period ADX.'][index_value]) > float(25)) & (df['DI+'][index_value] > df['DI-'][index_value]):\n",
    "        gauge_value += 1\n",
    "    elif (float(df['14 period ADX.'][index_value]) > float(25)) & (df['DI+'][index_value] < df['DI-'][index_value]):\n",
    "        gauge_value -= 1\n",
    "    else:\n",
    "        gauge_value += 0\n",
    "    ###### AO\n",
    "    if df['AO'][index_value] > (df['AO'][index_value - 1] + .05):\n",
    "        gauge_value += 1\n",
    "    elif df['AO'][index_value] < (df['AO'][index_value - 1] - .05):\n",
    "        gauge_value -= 1\n",
    "    else:\n",
    "        gauge_value += 0\n",
    "    ###### Momentum\n",
    "    if df['MOM'][index_value] > (df['MOM'][index_value - 1] + .05):\n",
    "        gauge_value += 1\n",
    "    elif df['MOM'][index_value] < (df['MOM'][index_value - 1] - .05):\n",
    "        gauge_value -= 1\n",
    "    else:\n",
    "        gauge_value += 0\n",
    "    ###### MACD\n",
    "    if (float(df['MACD'][index_value] - df['MACD SIGNAL'][index_value]) > float(0)) >= float(df['MACD'][index_value - 1] - df['MACD SIGNAL'][index_value - 1]):\n",
    "        gauge_value += 1\n",
    "    elif (float(df['MACD'][index_value] - df['MACD SIGNAL'][index_value]) < float(0)) <= float(df['MACD'][index_value - 1] - df['MACD SIGNAL'][index_value - 1]):\n",
    "        gauge_value -= 1\n",
    "    else:\n",
    "        gauge_value += 0\n",
    "    ###### STOCHRSI\n",
    "    if float(df['14 period stochastic RSI.'][index_value]) <= float(20):\n",
    "        gauge_value += 1\n",
    "    elif float(df['14 period stochastic RSI.'][index_value]) >= float(80):\n",
    "        gauge_value -= 1\n",
    "    else:\n",
    "        gauge_value += 0\n",
    "    ###### W%R\n",
    "    if float(df['14 Williams %R'][index_value]) <= float(-80):\n",
    "        gauge_value += 1\n",
    "    elif float(df['14 Williams %R'][index_value]) >= float(-20):\n",
    "        gauge_value -= 1\n",
    "    else:\n",
    "        gauge_value += 0\n",
    "    ###### Bull/Bear Power\n",
    "    if (df['Bull.'][index_value] + df['Bear.'][index_value]) > ((df['Bull.'][index_value - 1] + df['Bear.'][index_value - 1]) + .2):\n",
    "        gauge_value += 1\n",
    "    elif (df['Bull.'][index_value] + df['Bear.'][index_value]) < ((df['Bull.'][index_value - 1] + df['Bear.'][index_value - 1]) - .2):\n",
    "        gauge_value -= 1\n",
    "    else:\n",
    "        gauge_value += 0\n",
    "    ###### UO\n",
    "    if float(df['UO'][index_value]) <= float(30):\n",
    "        gauge_value += 1\n",
    "    elif float(df['UO'][index_value]) >= float(70):\n",
    "        gauge_value -= 1\n",
    "    else:\n",
    "        gauge_value += 0\n",
    "    ###### For all periods of MAs except Ichimoku\n",
    "    for i in 5, 10, 20, 30, 50, 100, 200:\n",
    "        for j in 'SMA', 'EMA':\n",
    "            if df['close'][index_value] > (df[str(i) + \" period \" + j][index_value] + .2):\n",
    "                gauge_value += 1\n",
    "            elif df['close'][index_value] < (df[str(i) + \" period \" + j][index_value] - .2):\n",
    "                gauge_value -= 1\n",
    "            else:\n",
    "                gauge_value += 0\n",
    "    if df['close'][index_value] > (df['20 period VAMA'][index_value] + .2):\n",
    "        gauge_value += 1\n",
    "    elif df['close'][index_value] < (df['20 period VAMA'][index_value] - .2):\n",
    "        gauge_value -= 1\n",
    "    else:\n",
    "        gauge_value += 0\n",
    "    if df['close'][index_value] > (df['9 period HMA.'][index_value] + .2):\n",
    "        gauge_value += 1\n",
    "    elif df['close'][index_value] < (df['9 period HMA.'][index_value] - .2):\n",
    "        gauge_value -= 1\n",
    "    else:\n",
    "        gauge_value += 0\n",
    "    ###### Ichimoku\n",
    "    if df['close'][index_value] > (df['TENKAN'][index_value] > df['KIJUN'][index_value]):\n",
    "        gauge_value += 1\n",
    "    elif df['close'][index_value] < (df['TENKAN'][index_value] < df['KIJUN'][index_value]):\n",
    "        gauge_value -= 1\n",
    "    else:\n",
    "        gauge_value += 0\n",
    "    return gauge_value"
   ]
  },
  {
   "cell_type": "code",
   "execution_count": 6,
   "metadata": {},
   "outputs": [],
   "source": [
    "def action(gauge_value):\n",
    "    indicator_count=28\n",
    "    gauge_value_averaged = (gauge_value / indicator_count)\n",
    "    if (gauge_value_averaged >= -1.0) & (gauge_value_averaged < -0.6):\n",
    "        print(\"Strong Sell, \" + str(gauge_value_averaged))\n",
    "    elif (gauge_value_averaged >= -0.6) & (gauge_value_averaged < -0.2):\n",
    "        print(\"Sell, \" + str(gauge_value_averaged))\n",
    "    elif (gauge_value_averaged >= -0.2) & (gauge_value_averaged <= 0.2):\n",
    "        print(\"Neutral, \" + str(gauge_value_averaged))\n",
    "    elif (gauge_value_averaged > 0.2) & (gauge_value_averaged <= 0.6):\n",
    "        print(\"Buy, \" + str(gauge_value_averaged))\n",
    "    elif (gauge_value_averaged > 0.6) & (gauge_value_averaged <= 1.0):\n",
    "        print(\"Strong Buy, \" + str(gauge_value_averaged))\n",
    "    "
   ]
  },
  {
   "cell_type": "code",
   "execution_count": 7,
   "metadata": {},
   "outputs": [],
   "source": [
    "def stock_model(ticker):\n",
    "    df = get_stock(ticker)\n",
    "    df = create_features(df)\n",
    "    action(get_gauge(df))"
   ]
  },
  {
   "cell_type": "code",
   "execution_count": 56,
   "metadata": {},
   "outputs": [],
   "source": [
    "## Sentiment Values\n",
    "\n",
    "# -1.0 to -0.6 = \"Strong Sell\"\n",
    "# -0.6 to -0.2 = \"Sell\"\n",
    "# -0.2 to 0.2 = \"Neutral\"\n",
    "# 0.2 to 0.6 = \"Buy\"\n",
    "# 0.6 to 1.0 = \"Strong Buy\""
   ]
  },
  {
   "cell_type": "code",
   "execution_count": 10,
   "metadata": {},
   "outputs": [
    {
     "name": "stdout",
     "output_type": "stream",
     "text": [
      "Sell, -0.4642857142857143\n"
     ]
    }
   ],
   "source": [
    "stock_model('DELL')"
   ]
  },
  {
   "cell_type": "code",
   "execution_count": 9,
   "metadata": {},
   "outputs": [],
   "source": [
    "def my_portfolio():\n",
    "    ls = ['AMZN','AAPL','NVDA','TEAM','UNH','MDB','TWTR','MSFT','FB','TQQQ','COST','C','UBER','JACK','ABT','MGM']\n",
    "    stonks = []\n",
    "    for i in ls:\n",
    "        stonks = stock_model(i)\n",
    "    return stonks"
   ]
  },
  {
   "cell_type": "code",
   "execution_count": 10,
   "metadata": {},
   "outputs": [
    {
     "name": "stdout",
     "output_type": "stream",
     "text": [
      "Buy, 0.5357142857142857\n",
      "Buy, 0.5\n",
      "Strong Buy, 0.7142857142857143\n",
      "Neutral, -0.14285714285714285\n",
      "Neutral, 0.17857142857142858\n",
      "Buy, 0.2857142857142857\n",
      "Neutral, 0.10714285714285714\n",
      "Strong Buy, 0.6785714285714286\n",
      "Strong Buy, 0.6071428571428571\n",
      "Strong Buy, 0.7142857142857143\n",
      "Neutral, -0.17857142857142858\n",
      "Neutral, 0.03571428571428571\n",
      "Neutral, -0.07142857142857142\n",
      "Neutral, 0.17857142857142858\n",
      "Buy, 0.42857142857142855\n",
      "Sell, -0.25\n"
     ]
    }
   ],
   "source": [
    "my_portfolio()"
   ]
  },
  {
   "cell_type": "code",
   "execution_count": 8,
   "metadata": {},
   "outputs": [
    {
     "name": "stdout",
     "output_type": "stream",
     "text": [
      "Buy, 0.32142857142857145\n"
     ]
    }
   ],
   "source": [
    "stock_model('NKLA')"
   ]
  },
  {
   "cell_type": "code",
   "execution_count": null,
   "metadata": {},
   "outputs": [],
   "source": []
  }
 ],
 "metadata": {
  "kernelspec": {
   "display_name": "Python [conda env:learn-env] *",
   "language": "python",
   "name": "conda-env-learn-env-py"
  },
  "language_info": {
   "codemirror_mode": {
    "name": "ipython",
    "version": 3
   },
   "file_extension": ".py",
   "mimetype": "text/x-python",
   "name": "python",
   "nbconvert_exporter": "python",
   "pygments_lexer": "ipython3",
   "version": "3.6.9"
  }
 },
 "nbformat": 4,
 "nbformat_minor": 2
}
